{
 "cells": [
  {
   "cell_type": "code",
   "execution_count": 2,
   "id": "dd65e390-6228-4f61-a66c-55cdde3ca9e7",
   "metadata": {
    "tags": []
   },
   "outputs": [
    {
     "name": "stdout",
     "output_type": "stream",
     "text": [
      "0th bound energy=-0.96856\n",
      "1th bound energy=-0.87473\n",
      "2th bound energy=-0.72013\n",
      "3th bound energy=-0.50849\n",
      "4th bound energy=-0.24911\n"
     ]
    }
   ],
   "source": [
    "import numpy as np\n",
    "from bisection_module import bisection\n",
    "def f_even(x):\n",
    "    return(np.tan(x)-(np.sqrt(Clambda - x*x))/x)\n",
    "def f_odd(x):\n",
    "    return(1./np.tan(x)+(np.sqrt(Clambda - x*x))/x)\n",
    "\n",
    "Clambda = 25.*np.pi*np.pi/4.  # lambda\n",
    "\n",
    "j = 0\n",
    "x= []\n",
    "energy = []\n",
    "\n",
    "while True:\n",
    "    if j%2 == 0:\n",
    "        if j != 0 and (Clambda - (j*np.pi/2)**2) <=0:\n",
    "            break\n",
    "        x += bisection(f_even, xL = 0.01 + j*np.pi/2, h=0.01)\n",
    "        energy.append(x[j]**2/Clambda-1)\n",
    "        \n",
    "    else:\n",
    "        if j !=0 and (Clambda - (j*np.pi/2)**2) <= 0:\n",
    "            break\n",
    "        x += bisection(f_odd,  xL = 0.01 + j*np.pi/2, h=0.01)\n",
    "        energy.append(x[j]**2/Clambda-1)\n",
    "    j += 1\n",
    "\n",
    "for j in range(len(energy)):\n",
    "    print(\"%dth bound energy=%.5f\" % (j, energy[j]))"
   ]
  },
  {
   "cell_type": "code",
   "execution_count": null,
   "id": "3f277e12-6151-4de4-bdb3-1d09a041be81",
   "metadata": {
    "tags": []
   },
   "outputs": [],
   "source": []
  }
 ],
 "metadata": {
  "kernelspec": {
   "display_name": "Python 3 (ipykernel)",
   "language": "python",
   "name": "python3"
  },
  "language_info": {
   "codemirror_mode": {
    "name": "ipython",
    "version": 3
   },
   "file_extension": ".py",
   "mimetype": "text/x-python",
   "name": "python",
   "nbconvert_exporter": "python",
   "pygments_lexer": "ipython3",
   "version": "3.7.11"
  }
 },
 "nbformat": 4,
 "nbformat_minor": 5
}
